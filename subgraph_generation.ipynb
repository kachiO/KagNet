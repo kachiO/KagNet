{
 "cells": [
  {
   "cell_type": "code",
   "execution_count": 1,
   "metadata": {
    "ExecuteTime": {
     "end_time": "2020-04-21T21:53:23.372032Z",
     "start_time": "2020-04-21T21:53:23.319003Z"
    }
   },
   "outputs": [],
   "source": [
    "%reload_ext autoreload\n",
    "%autoreload 2"
   ]
  },
  {
   "cell_type": "code",
   "execution_count": 2,
   "metadata": {
    "ExecuteTime": {
     "end_time": "2020-04-21T21:53:23.893076Z",
     "start_time": "2020-04-21T21:53:23.863672Z"
    }
   },
   "outputs": [],
   "source": [
    "from pathlib import Path"
   ]
  },
  {
   "cell_type": "code",
   "execution_count": null,
   "metadata": {
    "ExecuteTime": {
     "end_time": "2020-04-21T13:44:08.382142Z",
     "start_time": "2020-04-21T13:44:07.816888Z"
    }
   },
   "outputs": [],
   "source": [
    "import configparser, networkx as nx, itertools, math, json, sys, time, timeit, numpy, pdb, jsbeautifier, re, spacy\n",
    "from tqdm import tqdm\n"
   ]
  },
  {
   "cell_type": "markdown",
   "metadata": {
    "ExecuteTime": {
     "end_time": "2020-04-17T16:22:10.158470Z",
     "start_time": "2020-04-17T16:22:09.473795Z"
    }
   },
   "source": [
    "### Concept Grounding\n",
    "Extract and match concepts from Ai2Thor objects list to ConceptNet concepts."
   ]
  },
  {
   "cell_type": "code",
   "execution_count": 3,
   "metadata": {
    "ExecuteTime": {
     "end_time": "2020-04-21T21:53:27.776401Z",
     "start_time": "2020-04-21T21:53:26.334210Z"
    }
   },
   "outputs": [],
   "source": [
    "from grounding.grounding_concepts import GroundConcepts"
   ]
  },
  {
   "cell_type": "code",
   "execution_count": 4,
   "metadata": {
    "ExecuteTime": {
     "end_time": "2020-04-21T21:53:29.370866Z",
     "start_time": "2020-04-21T21:53:28.637486Z"
    }
   },
   "outputs": [],
   "source": [
    "config_path = Path(\"/Users/odoemoo1/projects/visual-navigation/KagNet/grounding/paths.cfg\")\n",
    "ground = GroundConcepts(config_path)"
   ]
  },
  {
   "cell_type": "code",
   "execution_count": 5,
   "metadata": {
    "ExecuteTime": {
     "end_time": "2020-04-21T22:03:01.191317Z",
     "start_time": "2020-04-21T21:53:30.572627Z"
    }
   },
   "outputs": [
    {
     "name": "stderr",
     "output_type": "stream",
     "text": [
      "Adding patterns to Matcher.: 100%|██████████| 781267/781267 [00:09<00:00, 78764.13it/s] \n",
      "Grounding: 100%|██████████| 87/87 [08:59<00:00,  6.20s/it]\n",
      "[nltk_data] Downloading package stopwords to\n",
      "[nltk_data]     /Users/odoemoo1/nltk_data...\n",
      "[nltk_data]   Package stopwords is already up-to-date!\n",
      "Pruning concepts: 100%|██████████| 87/87 [00:16<00:00,  5.28it/s]\n"
     ]
    },
    {
     "name": "stdout",
     "output_type": "stream",
     "text": [
      "Saved to /Users/odoemoo1/projects/visual-navigation/KagNet/datasets/ai2thor/ai2thor_objects_to_objects_rooms_include_self_concepts.json\n"
     ]
    }
   ],
   "source": [
    "ground.process('/Users/odoemoo1/projects/visual-navigation/KagNet/grounding/objects.txt', )"
   ]
  },
  {
   "cell_type": "markdown",
   "metadata": {},
   "source": [
    "### Generate Conceptnet graph\n",
    "\n",
    "Run below in cell:\n",
    "```\n",
    "!cd ./pathfinder/`\n",
    "!python graph_construction.py`\n",
    "!cd ..\n",
    "```\n",
    "\n",
    "Outputs networkX graph of conceptnet."
   ]
  },
  {
   "cell_type": "markdown",
   "metadata": {},
   "source": [
    "### Path finding\n",
    "Find a path between the concepts (i.e. objects).\n",
    "\n",
    "Re-factored pathfinder.py to create an object. "
   ]
  },
  {
   "cell_type": "code",
   "execution_count": 6,
   "metadata": {
    "ExecuteTime": {
     "end_time": "2020-04-21T22:18:35.210706Z",
     "start_time": "2020-04-21T22:18:34.639149Z"
    }
   },
   "outputs": [],
   "source": [
    "from pathfinder.pathfinder import PathFinder"
   ]
  },
  {
   "cell_type": "code",
   "execution_count": 8,
   "metadata": {
    "ExecuteTime": {
     "end_time": "2020-04-21T22:19:11.274272Z",
     "start_time": "2020-04-21T22:18:47.603430Z"
    }
   },
   "outputs": [
    {
     "name": "stdout",
     "output_type": "stream",
     "text": [
      "loading conceptnet graph...\n",
      "loading conceptnet graph...done\n"
     ]
    }
   ],
   "source": [
    "config_fn = '/Users/odoemoo1/projects/visual-navigation/KagNet/pathfinder/paths.cfg'\n",
    "pathfinder = PathFinder(config_fn)\n",
    "fn = Path('./datasets/ai2thor/ai2thor_objects_to_objects_rooms_include_self_concepts.json')"
   ]
  },
  {
   "cell_type": "code",
   "execution_count": 9,
   "metadata": {
    "ExecuteTime": {
     "end_time": "2020-04-21T22:19:20.491377Z",
     "start_time": "2020-04-21T22:19:12.593245Z"
    }
   },
   "outputs": [
    {
     "name": "stderr",
     "output_type": "stream",
     "text": [
      "100%|██████████| 87/87 [00:00<00:00, 188.08it/s]\n"
     ]
    },
    {
     "name": "stdout",
     "output_type": "stream",
     "text": [
      "Found paths saved to datasets/ai2thor/ai2thor_objects_to_objects_rooms_include_self_concepts_1hops_paths.json\n"
     ]
    }
   ],
   "source": [
    "pathfinder.process(fn, nhops=1, beautify=True)"
   ]
  },
  {
   "cell_type": "markdown",
   "metadata": {
    "ExecuteTime": {
     "end_time": "2020-04-21T18:12:21.408162Z",
     "start_time": "2020-04-21T18:12:21.330654Z"
    }
   },
   "source": [
    "#### score paths\n",
    "For concept and relation embeddings using glove embedding. In KagNet paper used knowledge graph embedding derived from TransE model. I will need to train this model to get the weights. For now use Glove embedding. "
   ]
  },
  {
   "cell_type": "code",
   "execution_count": 11,
   "metadata": {
    "ExecuteTime": {
     "end_time": "2020-04-21T22:19:37.712656Z",
     "start_time": "2020-04-21T22:19:37.617867Z"
    }
   },
   "outputs": [],
   "source": [
    "from pathfinder.path_scoring import ScorePaths"
   ]
  },
  {
   "cell_type": "code",
   "execution_count": 30,
   "metadata": {
    "ExecuteTime": {
     "end_time": "2020-04-21T22:58:04.555678Z",
     "start_time": "2020-04-21T22:57:57.198646Z"
    }
   },
   "outputs": [
    {
     "name": "stderr",
     "output_type": "stream",
     "text": [
      "\r",
      "Scoring the paths:   0%|          | 0/87 [00:00<?, ?it/s]"
     ]
    },
    {
     "name": "stdout",
     "output_type": "stream",
     "text": [
      "datasets/ai2thor/ai2thor_objects_to_objects_rooms_include_self_concepts.mean.npy file exists! Loading.\n"
     ]
    },
    {
     "name": "stderr",
     "output_type": "stream",
     "text": [
      "Scoring the paths: 100%|██████████| 87/87 [00:00<00:00, 753.70it/s]\n",
      "Pruning the paths: 100%|██████████| 87/87 [00:00<00:00, 5789.65it/s]"
     ]
    },
    {
     "name": "stdout",
     "output_type": "stream",
     "text": [
      "Scores saved to datasets/ai2thor/ai2thor_objects_to_objects_rooms_include_self_concepts_1hops_paths.json_scores.pickle\n",
      "Num paths: 991, \t\tAfter Pruning: 991, keep rate: 1.0\n"
     ]
    },
    {
     "name": "stderr",
     "output_type": "stream",
     "text": [
      "\n"
     ]
    }
   ],
   "source": [
    "scorer = ScorePaths(config_fn)\n",
    "paths_fn = 'datasets/ai2thor/ai2thor_objects_to_objects_rooms_include_self_concepts_1hops_paths.json.pickle'\n",
    "concepts_fn = 'datasets/ai2thor/ai2thor_objects_to_objects_rooms_include_self_concepts.json'\n",
    "scorer.process(paths_fn, concepts_fn)"
   ]
  },
  {
   "cell_type": "code",
   "execution_count": null,
   "metadata": {},
   "outputs": [],
   "source": []
  },
  {
   "cell_type": "code",
   "execution_count": null,
   "metadata": {},
   "outputs": [],
   "source": []
  },
  {
   "cell_type": "code",
   "execution_count": null,
   "metadata": {},
   "outputs": [],
   "source": []
  },
  {
   "cell_type": "code",
   "execution_count": null,
   "metadata": {},
   "outputs": [],
   "source": []
  },
  {
   "cell_type": "code",
   "execution_count": null,
   "metadata": {
    "ExecuteTime": {
     "end_time": "2020-04-21T21:30:52.846586Z",
     "start_time": "2020-04-21T21:29:20.599427Z"
    }
   },
   "outputs": [],
   "source": [
    "%debug"
   ]
  },
  {
   "cell_type": "code",
   "execution_count": null,
   "metadata": {
    "ExecuteTime": {
     "end_time": "2020-04-17T19:49:18.002731Z",
     "start_time": "2020-04-17T19:49:17.701033Z"
    },
    "scrolled": true
   },
   "outputs": [],
   "source": [
    "from dgl import DGLGraph"
   ]
  },
  {
   "cell_type": "code",
   "execution_count": null,
   "metadata": {
    "ExecuteTime": {
     "end_time": "2020-04-17T19:49:56.745052Z",
     "start_time": "2020-04-17T19:49:18.365387Z"
    }
   },
   "outputs": [],
   "source": [
    "dg = DGLGraph()\n",
    "dg.from_networkx(cpnet_simple)"
   ]
  },
  {
   "cell_type": "code",
   "execution_count": null,
   "metadata": {
    "ExecuteTime": {
     "end_time": "2020-04-17T19:50:05.668666Z",
     "start_time": "2020-04-17T19:50:05.584303Z"
    }
   },
   "outputs": [],
   "source": [
    "cpnet_simple.number_of_nodes()"
   ]
  },
  {
   "cell_type": "code",
   "execution_count": null,
   "metadata": {
    "ExecuteTime": {
     "end_time": "2020-04-17T19:54:07.562911Z",
     "start_time": "2020-04-17T19:54:07.472292Z"
    }
   },
   "outputs": [],
   "source": [
    "dg.subgraph([10, 20, 500]).adjacency_matrix()"
   ]
  },
  {
   "cell_type": "markdown",
   "metadata": {},
   "source": [
    "TODO:\n",
    "    - can you get a subgraph with just the nodes of AI2thor objects as concepts, without pathfinding? "
   ]
  }
 ],
 "metadata": {
  "kernelspec": {
   "display_name": "Python [conda env:kagnet_test]",
   "language": "python",
   "name": "conda-env-kagnet_test-py"
  },
  "language_info": {
   "codemirror_mode": {
    "name": "ipython",
    "version": 3
   },
   "file_extension": ".py",
   "mimetype": "text/x-python",
   "name": "python",
   "nbconvert_exporter": "python",
   "pygments_lexer": "ipython3",
   "version": "3.6.3"
  },
  "varInspector": {
   "cols": {
    "lenName": 16,
    "lenType": 16,
    "lenVar": 40
   },
   "kernels_config": {
    "python": {
     "delete_cmd_postfix": "",
     "delete_cmd_prefix": "del ",
     "library": "var_list.py",
     "varRefreshCmd": "print(var_dic_list())"
    },
    "r": {
     "delete_cmd_postfix": ") ",
     "delete_cmd_prefix": "rm(",
     "library": "var_list.r",
     "varRefreshCmd": "cat(var_dic_list()) "
    }
   },
   "types_to_exclude": [
    "module",
    "function",
    "builtin_function_or_method",
    "instance",
    "_Feature"
   ],
   "window_display": false
  }
 },
 "nbformat": 4,
 "nbformat_minor": 4
}
