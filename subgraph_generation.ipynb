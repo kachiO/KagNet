{
 "cells": [
  {
   "cell_type": "code",
   "execution_count": 1,
   "metadata": {
    "ExecuteTime": {
     "end_time": "2020-04-21T17:25:22.825274Z",
     "start_time": "2020-04-21T17:25:22.789493Z"
    }
   },
   "outputs": [],
   "source": [
    "%reload_ext autoreload\n",
    "%autoreload 2"
   ]
  },
  {
   "cell_type": "code",
   "execution_count": 2,
   "metadata": {
    "ExecuteTime": {
     "end_time": "2020-04-21T17:25:26.161856Z",
     "start_time": "2020-04-21T17:25:26.116043Z"
    }
   },
   "outputs": [],
   "source": [
    "from pathlib import Path"
   ]
  },
  {
   "cell_type": "code",
   "execution_count": 4,
   "metadata": {
    "ExecuteTime": {
     "end_time": "2020-04-21T13:44:08.382142Z",
     "start_time": "2020-04-21T13:44:07.816888Z"
    }
   },
   "outputs": [],
   "source": [
    "import configparser, networkx as nx, itertools, math, json, sys, time, timeit, numpy, pdb, jsbeautifier, re, spacy\n",
    "from tqdm import tqdm\n"
   ]
  },
  {
   "cell_type": "markdown",
   "metadata": {
    "ExecuteTime": {
     "end_time": "2020-04-17T16:22:10.158470Z",
     "start_time": "2020-04-17T16:22:09.473795Z"
    }
   },
   "source": [
    "### Concept Grounding\n",
    "Extract and match concepts from Ai2Thor objects list to ConceptNet concepts."
   ]
  },
  {
   "cell_type": "code",
   "execution_count": 2,
   "metadata": {
    "ExecuteTime": {
     "end_time": "2020-04-21T13:43:22.759453Z",
     "start_time": "2020-04-21T13:43:22.649337Z"
    }
   },
   "outputs": [],
   "source": [
    "from grounding.grounding_concepts import GroundConcepts"
   ]
  },
  {
   "cell_type": "code",
   "execution_count": 15,
   "metadata": {
    "ExecuteTime": {
     "end_time": "2020-04-21T16:34:47.386005Z",
     "start_time": "2020-04-21T16:34:46.799128Z"
    }
   },
   "outputs": [],
   "source": [
    "config_path = Path(\"/Users/odoemoo1/projects/visual-navigation/KagNet/grounding/paths.cfg\")\n",
    "ground = GroundConcepts(config_path)"
   ]
  },
  {
   "cell_type": "code",
   "execution_count": 22,
   "metadata": {
    "ExecuteTime": {
     "end_time": "2020-04-21T16:52:40.153738Z",
     "start_time": "2020-04-21T16:42:50.139129Z"
    }
   },
   "outputs": [
    {
     "name": "stdout",
     "output_type": "stream",
     "text": [
      "Added rooms\n"
     ]
    },
    {
     "name": "stderr",
     "output_type": "stream",
     "text": [
      "Adding patterns to Matcher.: 100%|██████████| 781267/781267 [00:07<00:00, 98446.22it/s] \n",
      "grounding: 100%|██████████| 87/87 [09:37<00:00,  6.64s/it]\n"
     ]
    },
    {
     "name": "stdout",
     "output_type": "stream",
     "text": [
      "Saved to /Users/odoemoo1/projects/visual-navigation/KagNet/datasets/ai2thor/ai2thor_objects_to_objects_rooms_include_self_concepts.json\n"
     ]
    }
   ],
   "source": [
    "ground.process('/Users/odoemoo1/projects/visual-navigation/KagNet/grounding/objects.txt', )"
   ]
  },
  {
   "cell_type": "markdown",
   "metadata": {},
   "source": [
    "We can skip pruning step as we're not dealing with sentences. "
   ]
  },
  {
   "cell_type": "markdown",
   "metadata": {},
   "source": [
    "### Generate Conceptnet graph\n",
    "\n",
    "Run below in cell:\n",
    "```\n",
    "!cd ./pathfinder/`\n",
    "!python graph_construction.py`\n",
    "!cd ..\n",
    "```\n",
    "\n",
    "Outputs networkX graph of conceptnet."
   ]
  },
  {
   "cell_type": "markdown",
   "metadata": {},
   "source": [
    "### Path finding\n",
    "Find a path between the concepts (i.e. objects).\n",
    "\n",
    "Re-factored pathfinder.py to create an object. "
   ]
  },
  {
   "cell_type": "code",
   "execution_count": 3,
   "metadata": {
    "ExecuteTime": {
     "end_time": "2020-04-21T17:25:36.151835Z",
     "start_time": "2020-04-21T17:25:35.251759Z"
    }
   },
   "outputs": [],
   "source": [
    "from pathfinder.pathfinder import PathFinder"
   ]
  },
  {
   "cell_type": "code",
   "execution_count": 8,
   "metadata": {
    "ExecuteTime": {
     "end_time": "2020-04-21T17:38:18.561427Z",
     "start_time": "2020-04-21T17:37:38.193362Z"
    }
   },
   "outputs": [
    {
     "name": "stdout",
     "output_type": "stream",
     "text": [
      "loading conceptnet graph...\n",
      "loading conceptnet graph...done\n"
     ]
    }
   ],
   "source": [
    "pathfinder = PathFinder( '/Users/odoemoo1/projects/visual-navigation/KagNet/pathfinder/paths.cfg')\n",
    "fn = Path('./datasets/ai2thor/ai2thor_objects_to_objects_rooms_include_self_concepts.json')"
   ]
  },
  {
   "cell_type": "code",
   "execution_count": 12,
   "metadata": {
    "ExecuteTime": {
     "end_time": "2020-04-21T17:50:14.098949Z",
     "start_time": "2020-04-21T17:50:01.068375Z"
    }
   },
   "outputs": [
    {
     "name": "stderr",
     "output_type": "stream",
     "text": [
      "100%|██████████| 87/87 [00:00<00:00, 196.78it/s]\n"
     ]
    },
    {
     "name": "stdout",
     "output_type": "stream",
     "text": [
      "Found paths written to datasets/ai2thor/ai2thor_objects_to_objects_rooms_include_self_concepts.json.1hops_paths.json\n"
     ]
    }
   ],
   "source": [
    "pathfinder.process(fn, nhops=1)"
   ]
  },
  {
   "cell_type": "code",
   "execution_count": null,
   "metadata": {},
   "outputs": [],
   "source": []
  },
  {
   "cell_type": "code",
   "execution_count": null,
   "metadata": {},
   "outputs": [],
   "source": []
  },
  {
   "cell_type": "code",
   "execution_count": null,
   "metadata": {},
   "outputs": [],
   "source": []
  },
  {
   "cell_type": "code",
   "execution_count": null,
   "metadata": {},
   "outputs": [],
   "source": []
  },
  {
   "cell_type": "code",
   "execution_count": null,
   "metadata": {},
   "outputs": [],
   "source": []
  },
  {
   "cell_type": "code",
   "execution_count": 46,
   "metadata": {
    "ExecuteTime": {
     "end_time": "2020-04-17T19:49:18.002731Z",
     "start_time": "2020-04-17T19:49:17.701033Z"
    },
    "scrolled": true
   },
   "outputs": [
    {
     "name": "stderr",
     "output_type": "stream",
     "text": [
      "Using backend: pytorch\n"
     ]
    }
   ],
   "source": [
    "from dgl import DGLGraph"
   ]
  },
  {
   "cell_type": "code",
   "execution_count": 47,
   "metadata": {
    "ExecuteTime": {
     "end_time": "2020-04-17T19:49:56.745052Z",
     "start_time": "2020-04-17T19:49:18.365387Z"
    }
   },
   "outputs": [
    {
     "name": "stderr",
     "output_type": "stream",
     "text": [
      "/Users/odoemoo1/anaconda3/envs/kagnet_test/lib/python3.6/site-packages/dgl/base.py:25: UserWarning: multigraph will be deprecated.DGL will treat all graphs as multigraph in the future.\n",
      "  warnings.warn(msg, warn_type)\n"
     ]
    }
   ],
   "source": [
    "dg = DGLGraph()\n",
    "dg.from_networkx(cpnet_simple)"
   ]
  },
  {
   "cell_type": "code",
   "execution_count": 49,
   "metadata": {
    "ExecuteTime": {
     "end_time": "2020-04-17T19:50:05.668666Z",
     "start_time": "2020-04-17T19:50:05.584303Z"
    }
   },
   "outputs": [
    {
     "data": {
      "text/plain": [
       "669941"
      ]
     },
     "execution_count": 49,
     "metadata": {},
     "output_type": "execute_result"
    }
   ],
   "source": [
    "cpnet_simple.number_of_nodes()"
   ]
  },
  {
   "cell_type": "code",
   "execution_count": 61,
   "metadata": {
    "ExecuteTime": {
     "end_time": "2020-04-17T19:54:07.562911Z",
     "start_time": "2020-04-17T19:54:07.472292Z"
    }
   },
   "outputs": [
    {
     "data": {
      "text/plain": [
       "tensor(indices=tensor([], size=(2, 0)),\n",
       "       values=tensor([], size=(0,)),\n",
       "       size=(3, 3), nnz=0, layout=torch.sparse_coo)"
      ]
     },
     "execution_count": 61,
     "metadata": {},
     "output_type": "execute_result"
    }
   ],
   "source": [
    "dg.subgraph([10, 20, 500]).adjacency_matrix()"
   ]
  },
  {
   "cell_type": "markdown",
   "metadata": {},
   "source": [
    "TODO:\n",
    "    - can you get a subgraph with just the nodes of AI2thor objects as concepts, without pathfinding? "
   ]
  }
 ],
 "metadata": {
  "kernelspec": {
   "display_name": "Python [conda env:kagnet_test]",
   "language": "python",
   "name": "conda-env-kagnet_test-py"
  },
  "varInspector": {
   "cols": {
    "lenName": 16,
    "lenType": 16,
    "lenVar": 40
   },
   "kernels_config": {
    "python": {
     "delete_cmd_postfix": "",
     "delete_cmd_prefix": "del ",
     "library": "var_list.py",
     "varRefreshCmd": "print(var_dic_list())"
    },
    "r": {
     "delete_cmd_postfix": ") ",
     "delete_cmd_prefix": "rm(",
     "library": "var_list.r",
     "varRefreshCmd": "cat(var_dic_list()) "
    }
   },
   "types_to_exclude": [
    "module",
    "function",
    "builtin_function_or_method",
    "instance",
    "_Feature"
   ],
   "window_display": false
  }
 },
 "nbformat": 4,
 "nbformat_minor": 4
}
