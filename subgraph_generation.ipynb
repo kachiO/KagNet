{
 "cells": [
  {
   "cell_type": "code",
   "execution_count": null,
   "metadata": {
    "ExecuteTime": {
     "end_time": "2020-04-21T21:53:23.372032Z",
     "start_time": "2020-04-21T21:53:23.319003Z"
    }
   },
   "outputs": [],
   "source": [
    "%reload_ext autoreload\n",
    "%autoreload 2"
   ]
  },
  {
   "cell_type": "code",
   "execution_count": null,
   "metadata": {
    "ExecuteTime": {
     "end_time": "2020-04-21T21:53:23.893076Z",
     "start_time": "2020-04-21T21:53:23.863672Z"
    }
   },
   "outputs": [],
   "source": [
    "#export\n",
    "from pathlib import Path"
   ]
  },
  {
   "cell_type": "markdown",
   "metadata": {
    "ExecuteTime": {
     "end_time": "2020-04-17T16:22:10.158470Z",
     "start_time": "2020-04-17T16:22:09.473795Z"
    }
   },
   "source": [
    "### Concept Grounding\n",
    "Extract and match concepts from Ai2Thor objects list to ConceptNet concepts."
   ]
  },
  {
   "cell_type": "code",
   "execution_count": null,
   "metadata": {
    "ExecuteTime": {
     "end_time": "2020-04-21T21:53:27.776401Z",
     "start_time": "2020-04-21T21:53:26.334210Z"
    }
   },
   "outputs": [],
   "source": [
    "#export\n",
    "from grounding.grounding_concepts import GroundConcepts"
   ]
  },
  {
   "cell_type": "code",
   "execution_count": null,
   "metadata": {
    "ExecuteTime": {
     "end_time": "2020-04-21T21:53:29.370866Z",
     "start_time": "2020-04-21T21:53:28.637486Z"
    }
   },
   "outputs": [],
   "source": [
    "#export\n",
    "config_path = Path(\"/Users/odoemoo1/projects/visual-navigation/KagNet/grounding/paths.cfg\")\n",
    "ground = GroundConcepts(config_path)"
   ]
  },
  {
   "cell_type": "code",
   "execution_count": null,
   "metadata": {
    "ExecuteTime": {
     "end_time": "2020-04-21T22:03:01.191317Z",
     "start_time": "2020-04-21T21:53:30.572627Z"
    }
   },
   "outputs": [],
   "source": [
    "#export\n",
    "ground.process('/Users/odoemoo1/projects/visual-navigation/KagNet/grounding/objects.txt', )"
   ]
  },
  {
   "cell_type": "markdown",
   "metadata": {},
   "source": [
    "### Generate Conceptnet graph\n",
    "\n",
    "Run below in cell:\n",
    "```\n",
    "!cd ./pathfinder/`\n",
    "!python graph_construction.py`\n",
    "!cd ..\n",
    "```\n",
    "\n",
    "Outputs networkX graph of conceptnet."
   ]
  },
  {
   "cell_type": "markdown",
   "metadata": {},
   "source": [
    "### Path finding\n",
    "Find a path between the concepts (i.e. objects).\n",
    "\n",
    "Re-factored pathfinder.py to create an object. "
   ]
  },
  {
   "cell_type": "code",
   "execution_count": null,
   "metadata": {
    "ExecuteTime": {
     "end_time": "2020-04-21T22:18:35.210706Z",
     "start_time": "2020-04-21T22:18:34.639149Z"
    }
   },
   "outputs": [],
   "source": [
    "#export\n",
    "from pathfinder.pathfinder import PathFinder"
   ]
  },
  {
   "cell_type": "code",
   "execution_count": null,
   "metadata": {
    "ExecuteTime": {
     "end_time": "2020-04-21T22:19:11.274272Z",
     "start_time": "2020-04-21T22:18:47.603430Z"
    }
   },
   "outputs": [],
   "source": [
    "#export\n",
    "config_fn = '/Users/odoemoo1/projects/visual-navigation/KagNet/pathfinder/paths.cfg'\n",
    "pathfinder = PathFinder(config_fn)\n",
    "fn = Path('./datasets/ai2thor/ai2thor_objects_to_objects_rooms_include_self_concepts.json')"
   ]
  },
  {
   "cell_type": "code",
   "execution_count": null,
   "metadata": {
    "ExecuteTime": {
     "end_time": "2020-04-21T22:19:20.491377Z",
     "start_time": "2020-04-21T22:19:12.593245Z"
    }
   },
   "outputs": [],
   "source": [
    "#export\n",
    "pathfinder.process(fn, nhops=1, beautify=True)"
   ]
  },
  {
   "cell_type": "markdown",
   "metadata": {
    "ExecuteTime": {
     "end_time": "2020-04-21T18:12:21.408162Z",
     "start_time": "2020-04-21T18:12:21.330654Z"
    }
   },
   "source": [
    "#### score paths\n",
    "For concept and relation embeddings using glove embedding. In KagNet paper used knowledge graph embedding derived from TransE model. I will need to train this model to get the weights. For now use Glove embedding. "
   ]
  },
  {
   "cell_type": "code",
   "execution_count": null,
   "metadata": {
    "ExecuteTime": {
     "end_time": "2020-04-21T22:19:37.712656Z",
     "start_time": "2020-04-21T22:19:37.617867Z"
    }
   },
   "outputs": [],
   "source": [
    "#export\n",
    "from pathfinder.path_scoring import ScorePaths"
   ]
  },
  {
   "cell_type": "code",
   "execution_count": null,
   "metadata": {
    "ExecuteTime": {
     "end_time": "2020-04-21T22:58:04.555678Z",
     "start_time": "2020-04-21T22:57:57.198646Z"
    }
   },
   "outputs": [],
   "source": [
    "#export\n",
    "scorer = ScorePaths(config_fn)\n",
    "paths_fn = 'datasets/ai2thor/ai2thor_objects_to_objects_rooms_include_self_concepts_1hops_paths.json.pickle'\n",
    "concepts_fn = 'datasets/ai2thor/ai2thor_objects_to_objects_rooms_include_self_concepts.json'\n",
    "scorer.process(paths_fn, concepts_fn)"
   ]
  },
  {
   "cell_type": "markdown",
   "metadata": {},
   "source": [
    "### Graph Generation\n",
    "A graph is generated for each object in AI2-Thor, depicting relationships (based on ConceptNet knowledge graph)"
   ]
  },
  {
   "cell_type": "code",
   "execution_count": null,
   "metadata": {
    "ExecuteTime": {
     "end_time": "2020-04-22T01:03:53.171798Z",
     "start_time": "2020-04-22T01:03:38.414700Z"
    }
   },
   "outputs": [],
   "source": [
    "#export\n",
    "from graph_generation.graph_gen import GenGraph"
   ]
  },
  {
   "cell_type": "code",
   "execution_count": null,
   "metadata": {
    "ExecuteTime": {
     "end_time": "2020-04-22T01:07:43.854551Z",
     "start_time": "2020-04-22T01:07:05.674417Z"
    }
   },
   "outputs": [],
   "source": [
    "#export\n",
    "config_fn = '/Users/odoemoo1/projects/visual-navigation/KagNet/graph_generation/paths.cfg'\n",
    "gen_graph = GenGraph(config_fn)"
   ]
  },
  {
   "cell_type": "code",
   "execution_count": null,
   "metadata": {
    "ExecuteTime": {
     "end_time": "2020-04-22T01:23:25.483390Z",
     "start_time": "2020-04-22T01:23:18.515268Z"
    }
   },
   "outputs": [],
   "source": [
    "#export\n",
    "paths_fn = 'datasets/ai2thor/ai2thor_objects_to_objects_rooms_include_self_concepts_1hops_paths.json_scores_pruned.pickle'\n",
    "concepts_fn = 'datasets/ai2thor/ai2thor_objects_to_objects_rooms_include_self_concepts.json'\n",
    "gen_graph.process(concepts_fn, paths_fn)"
   ]
  },
  {
   "cell_type": "markdown",
   "metadata": {},
   "source": [
    "### Visualize Graphs"
   ]
  },
  {
   "cell_type": "code",
   "execution_count": null,
   "metadata": {
    "ExecuteTime": {
     "end_time": "2020-04-22T08:05:58.444278Z",
     "start_time": "2020-04-22T08:05:58.228209Z"
    }
   },
   "outputs": [],
   "source": [
    "#export\n",
    "nxgs = []\n",
    "graph_ngx_file = 'datasets/ai2thor/ai2thor_objects_to_objects_rooms_include_self_concepts_1hops_paths.json_scores_pruned_graph'\n",
    "\n",
    "with open(graph_ngx_file, 'r') as fr:\n",
    "    for line in fr.readlines():\n",
    "        line = line.strip()\n",
    "        nxgs.append(line)"
   ]
  },
  {
   "cell_type": "code",
   "execution_count": null,
   "metadata": {
    "ExecuteTime": {
     "end_time": "2020-04-22T08:16:56.807474Z",
     "start_time": "2020-04-22T08:16:56.657722Z"
    }
   },
   "outputs": [],
   "source": [
    "from tqdm import tqdm\n",
    "import networkx as nx, dgl, json, torch"
   ]
  },
  {
   "cell_type": "code",
   "execution_count": null,
   "metadata": {
    "ExecuteTime": {
     "end_time": "2020-04-22T08:12:54.778023Z",
     "start_time": "2020-04-22T08:12:54.683594Z"
    }
   },
   "outputs": [],
   "source": [
    "nxg = nx.node_link_graph(json.loads(nxgs[0]))\n",
    "nxg.nodes[0]"
   ]
  },
  {
   "cell_type": "code",
   "execution_count": null,
   "metadata": {
    "ExecuteTime": {
     "end_time": "2020-04-22T08:21:36.246099Z",
     "start_time": "2020-04-22T08:21:35.511646Z"
    }
   },
   "outputs": [],
   "source": [
    "dgs = []\n",
    "num_nodes, num_edges = [], []\n",
    "for ii, nxg_str in tqdm(enumerate(nxgs), total=len(nxgs)):\n",
    "    nxg = nx.node_link_graph(json.loads(nxg_str))\n",
    "    dg = dgl.DGLGraph()\n",
    "    dg.from_networkx(nxg)\n",
    "    cids = [nxg.nodes[n_id]['cid'] + 1 for n_id in range(len(dg))] #adding 1, as 0 stands for placeholder concept\n",
    "    dg.ndata.update({'conceptnet_ids': torch.LongTensor(cids)})\n",
    "    num_nodes.append(dg.number_of_nodes())\n",
    "    num_edges.append(dg.number_of_edges())\n",
    "    dgs.append(dg)"
   ]
  },
  {
   "cell_type": "code",
   "execution_count": null,
   "metadata": {
    "ExecuteTime": {
     "end_time": "2020-04-22T08:22:52.205827Z",
     "start_time": "2020-04-22T08:22:52.111327Z"
    }
   },
   "outputs": [],
   "source": [
    "print(f'Num. unique edges: {np.unique(num_edges)} \\t Num. unique nodes: {np.unique(num_nodes)}')"
   ]
  },
  {
   "cell_type": "code",
   "execution_count": null,
   "metadata": {
    "ExecuteTime": {
     "end_time": "2020-04-22T08:36:39.559793Z",
     "start_time": "2020-04-22T08:36:38.979573Z"
    }
   },
   "outputs": [],
   "source": [
    "nx.draw(nx.node_link_graph(json.loads(nxgs[-39])), with_labels=True)"
   ]
  },
  {
   "cell_type": "code",
   "execution_count": null,
   "metadata": {
    "ExecuteTime": {
     "end_time": "2020-04-22T10:28:01.543239Z",
     "start_time": "2020-04-22T10:28:01.446962Z"
    }
   },
   "outputs": [],
   "source": [
    "dgs[0].ndata['conceptnet_ids']"
   ]
  },
  {
   "cell_type": "code",
   "execution_count": null,
   "metadata": {
    "ExecuteTime": {
     "end_time": "2020-04-22T10:28:11.860744Z",
     "start_time": "2020-04-22T10:28:11.761569Z"
    }
   },
   "outputs": [],
   "source": [
    "dgs[-10].ndata['conceptnet_ids']"
   ]
  },
  {
   "cell_type": "code",
   "execution_count": 7,
   "metadata": {
    "ExecuteTime": {
     "end_time": "2020-04-28T19:00:29.118881Z",
     "start_time": "2020-04-28T19:00:28.830183Z"
    }
   },
   "outputs": [
    {
     "name": "stdout",
     "output_type": "stream",
     "text": [
      "Converted subgraph_generation.ipynb to subgraph_generation.py\r\n"
     ]
    }
   ],
   "source": [
    "!python notebook2script.py --fname subgraph_generation.ipynb"
   ]
  },
  {
   "cell_type": "code",
   "execution_count": 4,
   "metadata": {
    "ExecuteTime": {
     "end_time": "2020-04-28T18:58:39.492532Z",
     "start_time": "2020-04-28T18:58:39.488237Z"
    }
   },
   "outputs": [
    {
     "name": "stderr",
     "output_type": "stream",
     "text": [
      "ERROR:root:No traceback has been produced, nothing to debug.\n"
     ]
    }
   ],
   "source": [
    "%debug"
   ]
  },
  {
   "cell_type": "markdown",
   "metadata": {},
   "source": [
    "## Git"
   ]
  },
  {
   "cell_type": "code",
   "execution_count": null,
   "metadata": {
    "ExecuteTime": {
     "end_time": "2020-04-22T01:27:26.351555Z",
     "start_time": "2020-04-22T01:27:26.062883Z"
    }
   },
   "outputs": [],
   "source": [
    "!git status"
   ]
  },
  {
   "cell_type": "code",
   "execution_count": null,
   "metadata": {
    "ExecuteTime": {
     "end_time": "2020-04-22T01:26:49.796163Z",
     "start_time": "2020-04-22T01:26:49.518879Z"
    }
   },
   "outputs": [],
   "source": [
    "!git add .gitignore"
   ]
  },
  {
   "cell_type": "code",
   "execution_count": null,
   "metadata": {
    "ExecuteTime": {
     "end_time": "2020-04-22T01:27:06.713555Z",
     "start_time": "2020-04-22T01:27:06.384611Z"
    }
   },
   "outputs": [],
   "source": [
    "!git commit -m \"Refactor graph generation.\""
   ]
  },
  {
   "cell_type": "code",
   "execution_count": null,
   "metadata": {},
   "outputs": [],
   "source": []
  }
 ],
 "metadata": {
  "kernelspec": {
   "display_name": "Python [conda env:kagnet_test]",
   "language": "python",
   "name": "conda-env-kagnet_test-py"
  },
  "language_info": {
   "codemirror_mode": {
    "name": "ipython",
    "version": 3
   },
   "file_extension": ".py",
   "mimetype": "text/x-python",
   "name": "python",
   "nbconvert_exporter": "python",
   "pygments_lexer": "ipython3",
   "version": "3.6.3"
  },
  "varInspector": {
   "cols": {
    "lenName": 16,
    "lenType": 16,
    "lenVar": 40
   },
   "kernels_config": {
    "python": {
     "delete_cmd_postfix": "",
     "delete_cmd_prefix": "del ",
     "library": "var_list.py",
     "varRefreshCmd": "print(var_dic_list())"
    },
    "r": {
     "delete_cmd_postfix": ") ",
     "delete_cmd_prefix": "rm(",
     "library": "var_list.r",
     "varRefreshCmd": "cat(var_dic_list()) "
    }
   },
   "types_to_exclude": [
    "module",
    "function",
    "builtin_function_or_method",
    "instance",
    "_Feature"
   ],
   "window_display": false
  }
 },
 "nbformat": 4,
 "nbformat_minor": 4
}
