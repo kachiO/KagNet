{
 "cells": [
  {
   "cell_type": "code",
   "execution_count": 1,
   "metadata": {
    "ExecuteTime": {
     "end_time": "2020-05-14T19:25:30.147615Z",
     "start_time": "2020-05-14T19:25:30.123453Z"
    }
   },
   "outputs": [],
   "source": [
    "%reload_ext autoreload\n",
    "%autoreload 2"
   ]
  },
  {
   "cell_type": "code",
   "execution_count": 2,
   "metadata": {
    "ExecuteTime": {
     "end_time": "2020-05-14T19:25:32.788742Z",
     "start_time": "2020-05-14T19:25:30.630331Z"
    }
   },
   "outputs": [],
   "source": [
    "from pathlib import Path\n",
    "import networkx as nx, matplotlib.pyplot as plt, json, torch"
   ]
  },
  {
   "cell_type": "code",
   "execution_count": 3,
   "metadata": {
    "ExecuteTime": {
     "end_time": "2020-05-14T13:45:35.674382Z",
     "start_time": "2020-05-14T13:45:35.650986Z"
    }
   },
   "outputs": [],
   "source": []
  },
  {
   "cell_type": "code",
   "execution_count": 3,
   "metadata": {
    "ExecuteTime": {
     "end_time": "2020-05-14T19:25:38.303373Z",
     "start_time": "2020-05-14T19:25:37.183800Z"
    }
   },
   "outputs": [],
   "source": [
    "from grounding.grounding_concepts import camel_case_split\n",
    "objects_fn = Path('/Users/odoemoo1/projects/visual-navigation/KagNet/grounding/objects.txt')\n",
    "\n",
    "with open(objects_fn, 'r') as f: \n",
    "    lines = f.read().split('\\n')\n",
    "    \n",
    "objects = [line for line in lines if not line == '']\n",
    "#objects_extended = [' '.join(np.unique([o] + camel_case_split(o))) for o in objects]   "
   ]
  },
  {
   "cell_type": "code",
   "execution_count": 19,
   "metadata": {
    "ExecuteTime": {
     "end_time": "2020-05-14T14:00:59.136391Z",
     "start_time": "2020-05-14T14:00:59.094638Z"
    },
    "collapsed": true
   },
   "outputs": [
    {
     "data": {
      "text/plain": [
       "['AlarmClock',\n",
       " 'Apple',\n",
       " 'AppleSlice',\n",
       " 'Bathtub',\n",
       " 'Bed',\n",
       " 'Blinds',\n",
       " 'Book',\n",
       " 'Bowl',\n",
       " 'BowlDirty',\n",
       " 'BowlFilled',\n",
       " 'Box',\n",
       " 'Bread',\n",
       " 'BreadSliced',\n",
       " 'ButterKnife',\n",
       " 'Cabinet',\n",
       " 'Candle',\n",
       " 'CellPhone',\n",
       " 'Chair',\n",
       " 'Cloth',\n",
       " 'CoffeeMachine',\n",
       " 'Container',\n",
       " 'ContainerFull',\n",
       " 'CounterTop',\n",
       " 'CreditCard',\n",
       " 'Cup',\n",
       " 'Dirt',\n",
       " 'Egg',\n",
       " 'EggFried',\n",
       " 'EggShell',\n",
       " 'Fork',\n",
       " 'Fridge',\n",
       " 'GarbageCan',\n",
       " 'HousePlant',\n",
       " 'KeyChain',\n",
       " 'Knife',\n",
       " 'Lamp',\n",
       " 'Laptop',\n",
       " 'Lettuce',\n",
       " 'LettuceSliced',\n",
       " 'LightSwitch',\n",
       " 'Microwave',\n",
       " 'Mirror',\n",
       " 'Mug',\n",
       " 'MugFilled',\n",
       " 'Newspaper',\n",
       " 'Omelette',\n",
       " 'Painting',\n",
       " 'PaintingHanger',\n",
       " 'Pan',\n",
       " 'Pen',\n",
       " 'Pencil',\n",
       " 'Plate',\n",
       " 'Plunger',\n",
       " 'Pot',\n",
       " 'Potato',\n",
       " 'PotatoSliced',\n",
       " 'RemoteControl',\n",
       " 'Sandwich',\n",
       " 'ScrubBrush',\n",
       " 'ShowerDoor',\n",
       " 'Sink',\n",
       " 'SoapBar',\n",
       " 'SoapBottle',\n",
       " 'Spoon',\n",
       " 'SportsEquipment',\n",
       " 'SprayBottle',\n",
       " 'Statue',\n",
       " 'StoveBurner',\n",
       " 'StoveKnob',\n",
       " 'TableTop',\n",
       " 'Television',\n",
       " 'TissueBox',\n",
       " 'Toaster',\n",
       " 'Toilet',\n",
       " 'ToiletPaper',\n",
       " 'Tomato',\n",
       " 'TomatoSliced',\n",
       " 'Towel',\n",
       " 'TowelHolder',\n",
       " 'VacuumCleaner',\n",
       " 'Watch',\n",
       " 'WateringCan',\n",
       " 'Pillow']"
      ]
     },
     "execution_count": 19,
     "metadata": {},
     "output_type": "execute_result"
    }
   ],
   "source": [
    "objects"
   ]
  },
  {
   "cell_type": "code",
   "execution_count": null,
   "metadata": {},
   "outputs": [],
   "source": []
  },
  {
   "cell_type": "code",
   "execution_count": 4,
   "metadata": {
    "ExecuteTime": {
     "end_time": "2020-05-14T19:25:43.186455Z",
     "start_time": "2020-05-14T19:25:42.556211Z"
    }
   },
   "outputs": [],
   "source": [
    "with open('./conceptnet/concept2id.json') as f:\n",
    "    concept2id = json.load(f)"
   ]
  },
  {
   "cell_type": "code",
   "execution_count": 5,
   "metadata": {
    "ExecuteTime": {
     "end_time": "2020-05-14T19:26:05.929685Z",
     "start_time": "2020-05-14T19:25:43.971774Z"
    }
   },
   "outputs": [],
   "source": [
    "cpnet = nx.read_gpickle('./conceptnet/cpnet.graph')\n",
    "cpnet_simple = nx.Graph()\n",
    "for u, v, data in cpnet.edges(data=True):\n",
    "    w = data['weight'] if 'weight' in data else 1.0\n",
    "    if cpnet_simple.has_edge(u, v):\n",
    "        cpnet_simple[u][v]['weight'] += w\n",
    "    else:\n",
    "        cpnet_simple.add_edge(u, v, weight=w)\n"
   ]
  },
  {
   "cell_type": "code",
   "execution_count": 7,
   "metadata": {
    "ExecuteTime": {
     "end_time": "2020-05-14T19:26:12.371244Z",
     "start_time": "2020-05-14T19:26:12.330128Z"
    }
   },
   "outputs": [],
   "source": [
    "objs_in_concept = [oo for oo in objects if oo.lower() in concept2id.keys()]\n",
    "objs_not_in_concept = [oo for oo in objects if not oo.lower() in concept2id.keys()]\n",
    "objs_not_in_concept_extended = [' '.join(np.unique([o] + camel_case_split(o))) for o in objs_not_in_concept]   \n",
    "all_objs = objs_in_concept + objs_not_in_concept_extended"
   ]
  },
  {
   "cell_type": "code",
   "execution_count": 8,
   "metadata": {
    "ExecuteTime": {
     "end_time": "2020-05-14T19:35:01.833088Z",
     "start_time": "2020-05-14T19:34:58.195833Z"
    }
   },
   "outputs": [
    {
     "name": "stdout",
     "output_type": "stream",
     "text": [
      "AlarmClock, \tnodes: 2, \tedges: 1\n",
      "Apple, \tnodes: 500, \tedges: 1214\n",
      "Bathtub, \tnodes: 59, \tedges: 190\n",
      "Bed, \tnodes: 695, \tedges: 2550\n",
      "Blinds, \tnodes: 10, \tedges: 16\n",
      "Book, \tnodes: 1262, \tedges: 3767\n",
      "Bowl, \tnodes: 260, \tedges: 658\n",
      "Box, \tnodes: 676, \tedges: 2441\n",
      "Bread, \tnodes: 598, \tedges: 1697\n",
      "ButterKnife, \tnodes: 2, \tedges: 1\n",
      "Cabinet, \tnodes: 387, \tedges: 929\n",
      "Candle, \tnodes: 174, \tedges: 397\n",
      "CellPhone, \tnodes: 19, \tedges: 29\n",
      "Chair, \tnodes: 316, \tedges: 1052\n",
      "Cloth, \tnodes: 448, \tedges: 1158\n",
      "Container, \tnodes: 392, \tedges: 1381\n",
      "CounterTop, \tnodes: 15, \tedges: 19\n",
      "Cup, \tnodes: 247, \tedges: 705\n",
      "Dirt, \tnodes: 171, \tedges: 616\n",
      "Egg, \tnodes: 715, \tedges: 1813\n",
      "EggShell, \tnodes: 12, \tedges: 13\n",
      "Fork, \tnodes: 163, \tedges: 449\n",
      "Fridge, \tnodes: 115, \tedges: 273\n",
      "HousePlant, \tnodes: 30, \tedges: 44\n",
      "KeyChain, \tnodes: 7, \tedges: 8\n",
      "Knife, \tnodes: 336, \tedges: 829\n",
      "Lamp, \tnodes: 185, \tedges: 456\n",
      "Laptop, \tnodes: 39, \tedges: 86\n",
      "Lettuce, \tnodes: 73, \tedges: 181\n",
      "LightSwitch, \tnodes: 2, \tedges: 1\n",
      "Microwave, \tnodes: 76, \tedges: 132\n",
      "Mirror, \tnodes: 164, \tedges: 292\n",
      "Mug, \tnodes: 94, \tedges: 234\n",
      "Newspaper, \tnodes: 331, \tedges: 894\n",
      "Omelette, \tnodes: 24, \tedges: 37\n",
      "Painting, \tnodes: 296, \tedges: 647\n",
      "Pan, \tnodes: 230, \tedges: 554\n",
      "Pen, \tnodes: 209, \tedges: 602\n",
      "Pencil, \tnodes: 133, \tedges: 341\n",
      "Plate, \tnodes: 946, \tedges: 3083\n",
      "Plunger, \tnodes: 48, \tedges: 65\n",
      "Pot, \tnodes: 331, \tedges: 1072\n",
      "Potato, \tnodes: 293, \tedges: 583\n",
      "Sandwich, \tnodes: 182, \tedges: 380\n",
      "Sink, \tnodes: 189, \tedges: 501\n",
      "Spoon, \tnodes: 141, \tedges: 368\n",
      "Statue, \tnodes: 336, \tedges: 822\n",
      "TableTop, \tnodes: 21, \tedges: 29\n",
      "Television, \tnodes: 523, \tedges: 1194\n",
      "Toaster, \tnodes: 63, \tedges: 115\n",
      "Toilet, \tnodes: 218, \tedges: 779\n",
      "Tomato, \tnodes: 144, \tedges: 261\n",
      "Towel, \tnodes: 71, \tedges: 123\n",
      "Watch, \tnodes: 348, \tedges: 951\n",
      "Pillow, \tnodes: 86, \tedges: 180\n",
      "Apple AppleSlice Slice, \tnodes: 650, \tedges: 1593\n",
      "Bowl BowlDirty Dirty, \tnodes: 472, \tedges: 1197\n",
      "Bowl BowlFilled Filled, \tnodes: 303, \tedges: 726\n",
      "Bread BreadSliced Sliced, \tnodes: 609, \tedges: 1711\n",
      "Coffee CoffeeMachine Machine, \tnodes: 1064, \tedges: 2514\n",
      "Container ContainerFull Full, \tnodes: 614, \tedges: 1925\n",
      "Card Credit CreditCard, \tnodes: 800, \tedges: 2430\n",
      "Egg EggFried Fried, \tnodes: 770, \tedges: 1885\n",
      "Can Garbage GarbageCan, \tnodes: 97, \tedges: 213\n",
      "Lettuce LettuceSliced Sliced, \tnodes: 90, \tedges: 207\n",
      "Filled Mug MugFilled, \tnodes: 136, \tedges: 302\n",
      "Hanger Painting PaintingHanger, \tnodes: 319, \tedges: 681\n",
      "Potato PotatoSliced Sliced, \tnodes: 308, \tedges: 609\n",
      "Control Remote RemoteControl, \tnodes: 713, \tedges: 1711\n",
      "Brush Scrub ScrubBrush, \tnodes: 222, \tedges: 480\n",
      "Door Shower ShowerDoor, \tnodes: 663, \tedges: 2176\n",
      "Bar Soap SoapBar, \tnodes: 1249, \tedges: 3967\n",
      "Bottle Soap SoapBottle, \tnodes: 647, \tedges: 1686\n",
      "Equipment Sports SportsEquipment, \tnodes: 398, \tedges: 851\n",
      "Bottle Spray SprayBottle, \tnodes: 357, \tedges: 869\n",
      "Burner Stove StoveBurner, \tnodes: 159, \tedges: 331\n",
      "Knob Stove StoveKnob, \tnodes: 215, \tedges: 475\n",
      "Box Tissue TissueBox, \tnodes: 1416, \tedges: 3749\n",
      "Paper Toilet ToiletPaper, \tnodes: 1076, \tedges: 4176\n",
      "Sliced Tomato TomatoSliced, \tnodes: 161, \tedges: 287\n",
      "Holder Towel TowelHolder, \tnodes: 185, \tedges: 425\n",
      "Cleaner Vacuum VacuumCleaner, \tnodes: 170, \tedges: 328\n",
      "Can Watering WateringCan, \tnodes: 20, \tedges: 31\n"
     ]
    }
   ],
   "source": [
    "nodes = []\n",
    "edges = []\n",
    "output_graph_text = \"\"\n",
    "graphs = {}\n",
    "out_graph_fn = Path('./datasets/ai2thor/ego_graphs.graph')\n",
    "\n",
    "for obj in all_objs:\n",
    "    sub_graphs = []\n",
    "    \n",
    "    for oo in obj.split(' '):\n",
    "        try:\n",
    "            ego_graph = nx.ego_graph(cpnet_simple, concept2id[oo.lower()])\n",
    "            #plt.figure()\n",
    "            #nx.draw(ego_graph); plt.show()\n",
    "            #print(f'\\t{oo.lower()} nodes: {ego_graph.number_of_nodes()}, edges: {ego_graph.number_of_edges()}')\n",
    "            sub_graphs.append(ego_graph)\n",
    "        except:\n",
    "            pass\n",
    "        \n",
    "    if len(sub_graphs):\n",
    "        combined_graph = nx.compose_all(sub_graphs)\n",
    "        print(f'{obj}, \\tnodes: {combined_graph.number_of_nodes()}, \\tedges: {combined_graph.number_of_edges()}')\n",
    "\n",
    "        edges.append(combined_graph.number_of_edges())\n",
    "        nodes.append(combined_graph.number_of_nodes())\n",
    "        \n",
    "        _combined_graph = nx.convert_node_labels_to_integers(combined_graph, label_attribute='cid')\n",
    "        graph_str = json.dumps(nx.node_link_data(_combined_graph))\n",
    "        \n",
    "        output_graph_text += graph_str + \"\\n\"\n",
    "\n",
    "\n",
    "with open(out_graph_fn, 'w') as fw:\n",
    "    fw.write(output_graph_text)\n"
   ]
  },
  {
   "cell_type": "code",
   "execution_count": 13,
   "metadata": {
    "ExecuteTime": {
     "end_time": "2020-05-14T19:39:09.179265Z",
     "start_time": "2020-05-14T19:39:08.843957Z"
    }
   },
   "outputs": [
    {
     "name": "stderr",
     "output_type": "stream",
     "text": [
      "Using backend: pytorch\n"
     ]
    }
   ],
   "source": [
    "import dgl\n",
    "def read_file(fname, f_type='txt'):\n",
    "    assert Path(fname).is_file(), f'{fname} does not exist.'\n",
    "\n",
    "    with open(fname, 'r') as f:\n",
    "        if f_type == 'txt':\n",
    "            out = [line.strip() for line in f.readlines()]\n",
    "        elif f_type == 'json':\n",
    "            out = json.load(f)\n",
    "        \n",
    "    return out\n",
    "\n",
    "def load_graphs(objects_fname, graph_nxg_file):\n",
    "    \"\"\"\n",
    "    Pre-generated graphs with relationships between each object. \n",
    "    Generated via KagNet repo.\n",
    "    The number of objects is fixed, although the number of nodes differ.\n",
    "    \"\"\"\n",
    "    objects = read_file(objects_fname)\n",
    "    nxgs = read_file(graph_nxg_file)\n",
    "    dgs = {}\n",
    "    nxgs = nxgs[:len(objects)]\n",
    "\n",
    "    for ii, nxg_str in enumerate(nxgs):\n",
    "        nxg = nx.node_link_graph(json.loads(nxg_str))\n",
    "        dg = dgl.DGLGraph()\n",
    "        dg.from_networkx(nxg)\n",
    "         #adding 1, as 0 stands for placeholder / dummy concept\n",
    "        cids = [nxg.nodes[n_id]['cid'] + 1 for n_id in range(len(dg))]\n",
    "        dg.ndata.update({'conceptnet_ids': torch.LongTensor(cids)})\n",
    "        dgs[objects[ii]] = dg\n",
    "    \n",
    "    return dgs\n"
   ]
  },
  {
   "cell_type": "code",
   "execution_count": 14,
   "metadata": {
    "ExecuteTime": {
     "end_time": "2020-05-14T19:39:11.909107Z",
     "start_time": "2020-05-14T19:39:10.533219Z"
    }
   },
   "outputs": [],
   "source": [
    "objects_fn = Path('/Users/odoemoo1/projects/visual-navigation/KagNet/grounding/objects.txt')\n",
    "dgs = load_graphs(objects_fname=objects_fn, graph_nxg_file=out_graph_fn)"
   ]
  },
  {
   "cell_type": "code",
   "execution_count": 15,
   "metadata": {
    "ExecuteTime": {
     "end_time": "2020-05-14T19:39:15.057494Z",
     "start_time": "2020-05-14T19:39:15.012487Z"
    }
   },
   "outputs": [
    {
     "data": {
      "text/plain": [
       "{'AlarmClock': DGLGraph(num_nodes=2, num_edges=2,\n",
       "          ndata_schemes={'conceptnet_ids': Scheme(shape=(), dtype=torch.int64)}\n",
       "          edata_schemes={}),\n",
       " 'Apple': DGLGraph(num_nodes=500, num_edges=2428,\n",
       "          ndata_schemes={'conceptnet_ids': Scheme(shape=(), dtype=torch.int64)}\n",
       "          edata_schemes={}),\n",
       " 'AppleSlice': DGLGraph(num_nodes=59, num_edges=380,\n",
       "          ndata_schemes={'conceptnet_ids': Scheme(shape=(), dtype=torch.int64)}\n",
       "          edata_schemes={}),\n",
       " 'Bathtub': DGLGraph(num_nodes=695, num_edges=5100,\n",
       "          ndata_schemes={'conceptnet_ids': Scheme(shape=(), dtype=torch.int64)}\n",
       "          edata_schemes={}),\n",
       " 'Bed': DGLGraph(num_nodes=10, num_edges=32,\n",
       "          ndata_schemes={'conceptnet_ids': Scheme(shape=(), dtype=torch.int64)}\n",
       "          edata_schemes={}),\n",
       " 'Blinds': DGLGraph(num_nodes=1262, num_edges=7534,\n",
       "          ndata_schemes={'conceptnet_ids': Scheme(shape=(), dtype=torch.int64)}\n",
       "          edata_schemes={}),\n",
       " 'Book': DGLGraph(num_nodes=260, num_edges=1316,\n",
       "          ndata_schemes={'conceptnet_ids': Scheme(shape=(), dtype=torch.int64)}\n",
       "          edata_schemes={}),\n",
       " 'Bowl': DGLGraph(num_nodes=676, num_edges=4882,\n",
       "          ndata_schemes={'conceptnet_ids': Scheme(shape=(), dtype=torch.int64)}\n",
       "          edata_schemes={}),\n",
       " 'BowlDirty': DGLGraph(num_nodes=598, num_edges=3394,\n",
       "          ndata_schemes={'conceptnet_ids': Scheme(shape=(), dtype=torch.int64)}\n",
       "          edata_schemes={}),\n",
       " 'BowlFilled': DGLGraph(num_nodes=2, num_edges=2,\n",
       "          ndata_schemes={'conceptnet_ids': Scheme(shape=(), dtype=torch.int64)}\n",
       "          edata_schemes={}),\n",
       " 'Box': DGLGraph(num_nodes=387, num_edges=1858,\n",
       "          ndata_schemes={'conceptnet_ids': Scheme(shape=(), dtype=torch.int64)}\n",
       "          edata_schemes={}),\n",
       " 'Bread': DGLGraph(num_nodes=174, num_edges=794,\n",
       "          ndata_schemes={'conceptnet_ids': Scheme(shape=(), dtype=torch.int64)}\n",
       "          edata_schemes={}),\n",
       " 'BreadSliced': DGLGraph(num_nodes=19, num_edges=58,\n",
       "          ndata_schemes={'conceptnet_ids': Scheme(shape=(), dtype=torch.int64)}\n",
       "          edata_schemes={}),\n",
       " 'ButterKnife': DGLGraph(num_nodes=316, num_edges=2104,\n",
       "          ndata_schemes={'conceptnet_ids': Scheme(shape=(), dtype=torch.int64)}\n",
       "          edata_schemes={}),\n",
       " 'Cabinet': DGLGraph(num_nodes=448, num_edges=2316,\n",
       "          ndata_schemes={'conceptnet_ids': Scheme(shape=(), dtype=torch.int64)}\n",
       "          edata_schemes={}),\n",
       " 'Candle': DGLGraph(num_nodes=392, num_edges=2762,\n",
       "          ndata_schemes={'conceptnet_ids': Scheme(shape=(), dtype=torch.int64)}\n",
       "          edata_schemes={}),\n",
       " 'CellPhone': DGLGraph(num_nodes=15, num_edges=38,\n",
       "          ndata_schemes={'conceptnet_ids': Scheme(shape=(), dtype=torch.int64)}\n",
       "          edata_schemes={}),\n",
       " 'Chair': DGLGraph(num_nodes=247, num_edges=1410,\n",
       "          ndata_schemes={'conceptnet_ids': Scheme(shape=(), dtype=torch.int64)}\n",
       "          edata_schemes={}),\n",
       " 'Cloth': DGLGraph(num_nodes=171, num_edges=1232,\n",
       "          ndata_schemes={'conceptnet_ids': Scheme(shape=(), dtype=torch.int64)}\n",
       "          edata_schemes={}),\n",
       " 'CoffeeMachine': DGLGraph(num_nodes=715, num_edges=3626,\n",
       "          ndata_schemes={'conceptnet_ids': Scheme(shape=(), dtype=torch.int64)}\n",
       "          edata_schemes={}),\n",
       " 'Container': DGLGraph(num_nodes=12, num_edges=26,\n",
       "          ndata_schemes={'conceptnet_ids': Scheme(shape=(), dtype=torch.int64)}\n",
       "          edata_schemes={}),\n",
       " 'ContainerFull': DGLGraph(num_nodes=163, num_edges=898,\n",
       "          ndata_schemes={'conceptnet_ids': Scheme(shape=(), dtype=torch.int64)}\n",
       "          edata_schemes={}),\n",
       " 'CounterTop': DGLGraph(num_nodes=115, num_edges=546,\n",
       "          ndata_schemes={'conceptnet_ids': Scheme(shape=(), dtype=torch.int64)}\n",
       "          edata_schemes={}),\n",
       " 'CreditCard': DGLGraph(num_nodes=30, num_edges=88,\n",
       "          ndata_schemes={'conceptnet_ids': Scheme(shape=(), dtype=torch.int64)}\n",
       "          edata_schemes={}),\n",
       " 'Cup': DGLGraph(num_nodes=7, num_edges=16,\n",
       "          ndata_schemes={'conceptnet_ids': Scheme(shape=(), dtype=torch.int64)}\n",
       "          edata_schemes={}),\n",
       " 'Dirt': DGLGraph(num_nodes=336, num_edges=1658,\n",
       "          ndata_schemes={'conceptnet_ids': Scheme(shape=(), dtype=torch.int64)}\n",
       "          edata_schemes={}),\n",
       " 'Egg': DGLGraph(num_nodes=185, num_edges=912,\n",
       "          ndata_schemes={'conceptnet_ids': Scheme(shape=(), dtype=torch.int64)}\n",
       "          edata_schemes={}),\n",
       " 'EggFried': DGLGraph(num_nodes=39, num_edges=172,\n",
       "          ndata_schemes={'conceptnet_ids': Scheme(shape=(), dtype=torch.int64)}\n",
       "          edata_schemes={}),\n",
       " 'EggShell': DGLGraph(num_nodes=73, num_edges=362,\n",
       "          ndata_schemes={'conceptnet_ids': Scheme(shape=(), dtype=torch.int64)}\n",
       "          edata_schemes={}),\n",
       " 'Fork': DGLGraph(num_nodes=2, num_edges=2,\n",
       "          ndata_schemes={'conceptnet_ids': Scheme(shape=(), dtype=torch.int64)}\n",
       "          edata_schemes={}),\n",
       " 'Fridge': DGLGraph(num_nodes=76, num_edges=264,\n",
       "          ndata_schemes={'conceptnet_ids': Scheme(shape=(), dtype=torch.int64)}\n",
       "          edata_schemes={}),\n",
       " 'GarbageCan': DGLGraph(num_nodes=164, num_edges=584,\n",
       "          ndata_schemes={'conceptnet_ids': Scheme(shape=(), dtype=torch.int64)}\n",
       "          edata_schemes={}),\n",
       " 'HousePlant': DGLGraph(num_nodes=94, num_edges=468,\n",
       "          ndata_schemes={'conceptnet_ids': Scheme(shape=(), dtype=torch.int64)}\n",
       "          edata_schemes={}),\n",
       " 'KeyChain': DGLGraph(num_nodes=331, num_edges=1788,\n",
       "          ndata_schemes={'conceptnet_ids': Scheme(shape=(), dtype=torch.int64)}\n",
       "          edata_schemes={}),\n",
       " 'Knife': DGLGraph(num_nodes=24, num_edges=74,\n",
       "          ndata_schemes={'conceptnet_ids': Scheme(shape=(), dtype=torch.int64)}\n",
       "          edata_schemes={}),\n",
       " 'Lamp': DGLGraph(num_nodes=296, num_edges=1294,\n",
       "          ndata_schemes={'conceptnet_ids': Scheme(shape=(), dtype=torch.int64)}\n",
       "          edata_schemes={}),\n",
       " 'Laptop': DGLGraph(num_nodes=230, num_edges=1108,\n",
       "          ndata_schemes={'conceptnet_ids': Scheme(shape=(), dtype=torch.int64)}\n",
       "          edata_schemes={}),\n",
       " 'Lettuce': DGLGraph(num_nodes=209, num_edges=1204,\n",
       "          ndata_schemes={'conceptnet_ids': Scheme(shape=(), dtype=torch.int64)}\n",
       "          edata_schemes={}),\n",
       " 'LettuceSliced': DGLGraph(num_nodes=133, num_edges=682,\n",
       "          ndata_schemes={'conceptnet_ids': Scheme(shape=(), dtype=torch.int64)}\n",
       "          edata_schemes={}),\n",
       " 'LightSwitch': DGLGraph(num_nodes=946, num_edges=6166,\n",
       "          ndata_schemes={'conceptnet_ids': Scheme(shape=(), dtype=torch.int64)}\n",
       "          edata_schemes={}),\n",
       " 'Microwave': DGLGraph(num_nodes=48, num_edges=130,\n",
       "          ndata_schemes={'conceptnet_ids': Scheme(shape=(), dtype=torch.int64)}\n",
       "          edata_schemes={}),\n",
       " 'Mirror': DGLGraph(num_nodes=331, num_edges=2144,\n",
       "          ndata_schemes={'conceptnet_ids': Scheme(shape=(), dtype=torch.int64)}\n",
       "          edata_schemes={}),\n",
       " 'Mug': DGLGraph(num_nodes=293, num_edges=1166,\n",
       "          ndata_schemes={'conceptnet_ids': Scheme(shape=(), dtype=torch.int64)}\n",
       "          edata_schemes={}),\n",
       " 'MugFilled': DGLGraph(num_nodes=182, num_edges=760,\n",
       "          ndata_schemes={'conceptnet_ids': Scheme(shape=(), dtype=torch.int64)}\n",
       "          edata_schemes={}),\n",
       " 'Newspaper': DGLGraph(num_nodes=189, num_edges=1002,\n",
       "          ndata_schemes={'conceptnet_ids': Scheme(shape=(), dtype=torch.int64)}\n",
       "          edata_schemes={}),\n",
       " 'Omelette': DGLGraph(num_nodes=141, num_edges=736,\n",
       "          ndata_schemes={'conceptnet_ids': Scheme(shape=(), dtype=torch.int64)}\n",
       "          edata_schemes={}),\n",
       " 'Painting': DGLGraph(num_nodes=336, num_edges=1644,\n",
       "          ndata_schemes={'conceptnet_ids': Scheme(shape=(), dtype=torch.int64)}\n",
       "          edata_schemes={}),\n",
       " 'PaintingHanger': DGLGraph(num_nodes=21, num_edges=58,\n",
       "          ndata_schemes={'conceptnet_ids': Scheme(shape=(), dtype=torch.int64)}\n",
       "          edata_schemes={}),\n",
       " 'Pan': DGLGraph(num_nodes=523, num_edges=2388,\n",
       "          ndata_schemes={'conceptnet_ids': Scheme(shape=(), dtype=torch.int64)}\n",
       "          edata_schemes={}),\n",
       " 'Pen': DGLGraph(num_nodes=63, num_edges=230,\n",
       "          ndata_schemes={'conceptnet_ids': Scheme(shape=(), dtype=torch.int64)}\n",
       "          edata_schemes={}),\n",
       " 'Pencil': DGLGraph(num_nodes=218, num_edges=1558,\n",
       "          ndata_schemes={'conceptnet_ids': Scheme(shape=(), dtype=torch.int64)}\n",
       "          edata_schemes={}),\n",
       " 'Plate': DGLGraph(num_nodes=144, num_edges=522,\n",
       "          ndata_schemes={'conceptnet_ids': Scheme(shape=(), dtype=torch.int64)}\n",
       "          edata_schemes={}),\n",
       " 'Plunger': DGLGraph(num_nodes=71, num_edges=246,\n",
       "          ndata_schemes={'conceptnet_ids': Scheme(shape=(), dtype=torch.int64)}\n",
       "          edata_schemes={}),\n",
       " 'Pot': DGLGraph(num_nodes=348, num_edges=1902,\n",
       "          ndata_schemes={'conceptnet_ids': Scheme(shape=(), dtype=torch.int64)}\n",
       "          edata_schemes={}),\n",
       " 'Potato': DGLGraph(num_nodes=86, num_edges=360,\n",
       "          ndata_schemes={'conceptnet_ids': Scheme(shape=(), dtype=torch.int64)}\n",
       "          edata_schemes={}),\n",
       " 'PotatoSliced': DGLGraph(num_nodes=650, num_edges=3186,\n",
       "          ndata_schemes={'conceptnet_ids': Scheme(shape=(), dtype=torch.int64)}\n",
       "          edata_schemes={}),\n",
       " 'RemoteControl': DGLGraph(num_nodes=472, num_edges=2394,\n",
       "          ndata_schemes={'conceptnet_ids': Scheme(shape=(), dtype=torch.int64)}\n",
       "          edata_schemes={}),\n",
       " 'Sandwich': DGLGraph(num_nodes=303, num_edges=1452,\n",
       "          ndata_schemes={'conceptnet_ids': Scheme(shape=(), dtype=torch.int64)}\n",
       "          edata_schemes={}),\n",
       " 'ScrubBrush': DGLGraph(num_nodes=609, num_edges=3422,\n",
       "          ndata_schemes={'conceptnet_ids': Scheme(shape=(), dtype=torch.int64)}\n",
       "          edata_schemes={}),\n",
       " 'ShowerDoor': DGLGraph(num_nodes=1064, num_edges=5028,\n",
       "          ndata_schemes={'conceptnet_ids': Scheme(shape=(), dtype=torch.int64)}\n",
       "          edata_schemes={}),\n",
       " 'Sink': DGLGraph(num_nodes=614, num_edges=3850,\n",
       "          ndata_schemes={'conceptnet_ids': Scheme(shape=(), dtype=torch.int64)}\n",
       "          edata_schemes={}),\n",
       " 'SoapBar': DGLGraph(num_nodes=800, num_edges=4860,\n",
       "          ndata_schemes={'conceptnet_ids': Scheme(shape=(), dtype=torch.int64)}\n",
       "          edata_schemes={}),\n",
       " 'SoapBottle': DGLGraph(num_nodes=770, num_edges=3770,\n",
       "          ndata_schemes={'conceptnet_ids': Scheme(shape=(), dtype=torch.int64)}\n",
       "          edata_schemes={}),\n",
       " 'Spoon': DGLGraph(num_nodes=97, num_edges=426,\n",
       "          ndata_schemes={'conceptnet_ids': Scheme(shape=(), dtype=torch.int64)}\n",
       "          edata_schemes={}),\n",
       " 'SportsEquipment': DGLGraph(num_nodes=90, num_edges=414,\n",
       "          ndata_schemes={'conceptnet_ids': Scheme(shape=(), dtype=torch.int64)}\n",
       "          edata_schemes={}),\n",
       " 'SprayBottle': DGLGraph(num_nodes=136, num_edges=604,\n",
       "          ndata_schemes={'conceptnet_ids': Scheme(shape=(), dtype=torch.int64)}\n",
       "          edata_schemes={}),\n",
       " 'Statue': DGLGraph(num_nodes=319, num_edges=1362,\n",
       "          ndata_schemes={'conceptnet_ids': Scheme(shape=(), dtype=torch.int64)}\n",
       "          edata_schemes={}),\n",
       " 'StoveBurner': DGLGraph(num_nodes=308, num_edges=1218,\n",
       "          ndata_schemes={'conceptnet_ids': Scheme(shape=(), dtype=torch.int64)}\n",
       "          edata_schemes={}),\n",
       " 'StoveKnob': DGLGraph(num_nodes=713, num_edges=3422,\n",
       "          ndata_schemes={'conceptnet_ids': Scheme(shape=(), dtype=torch.int64)}\n",
       "          edata_schemes={}),\n",
       " 'TableTop': DGLGraph(num_nodes=222, num_edges=960,\n",
       "          ndata_schemes={'conceptnet_ids': Scheme(shape=(), dtype=torch.int64)}\n",
       "          edata_schemes={}),\n",
       " 'Television': DGLGraph(num_nodes=663, num_edges=4352,\n",
       "          ndata_schemes={'conceptnet_ids': Scheme(shape=(), dtype=torch.int64)}\n",
       "          edata_schemes={}),\n",
       " 'TissueBox': DGLGraph(num_nodes=1249, num_edges=7934,\n",
       "          ndata_schemes={'conceptnet_ids': Scheme(shape=(), dtype=torch.int64)}\n",
       "          edata_schemes={}),\n",
       " 'Toaster': DGLGraph(num_nodes=647, num_edges=3372,\n",
       "          ndata_schemes={'conceptnet_ids': Scheme(shape=(), dtype=torch.int64)}\n",
       "          edata_schemes={}),\n",
       " 'Toilet': DGLGraph(num_nodes=398, num_edges=1702,\n",
       "          ndata_schemes={'conceptnet_ids': Scheme(shape=(), dtype=torch.int64)}\n",
       "          edata_schemes={}),\n",
       " 'ToiletPaper': DGLGraph(num_nodes=357, num_edges=1738,\n",
       "          ndata_schemes={'conceptnet_ids': Scheme(shape=(), dtype=torch.int64)}\n",
       "          edata_schemes={}),\n",
       " 'Tomato': DGLGraph(num_nodes=159, num_edges=662,\n",
       "          ndata_schemes={'conceptnet_ids': Scheme(shape=(), dtype=torch.int64)}\n",
       "          edata_schemes={}),\n",
       " 'TomatoSliced': DGLGraph(num_nodes=215, num_edges=950,\n",
       "          ndata_schemes={'conceptnet_ids': Scheme(shape=(), dtype=torch.int64)}\n",
       "          edata_schemes={}),\n",
       " 'Towel': DGLGraph(num_nodes=1416, num_edges=7498,\n",
       "          ndata_schemes={'conceptnet_ids': Scheme(shape=(), dtype=torch.int64)}\n",
       "          edata_schemes={}),\n",
       " 'TowelHolder': DGLGraph(num_nodes=1076, num_edges=8352,\n",
       "          ndata_schemes={'conceptnet_ids': Scheme(shape=(), dtype=torch.int64)}\n",
       "          edata_schemes={}),\n",
       " 'VacuumCleaner': DGLGraph(num_nodes=161, num_edges=574,\n",
       "          ndata_schemes={'conceptnet_ids': Scheme(shape=(), dtype=torch.int64)}\n",
       "          edata_schemes={}),\n",
       " 'Watch': DGLGraph(num_nodes=185, num_edges=850,\n",
       "          ndata_schemes={'conceptnet_ids': Scheme(shape=(), dtype=torch.int64)}\n",
       "          edata_schemes={}),\n",
       " 'WateringCan': DGLGraph(num_nodes=170, num_edges=656,\n",
       "          ndata_schemes={'conceptnet_ids': Scheme(shape=(), dtype=torch.int64)}\n",
       "          edata_schemes={}),\n",
       " 'Pillow': DGLGraph(num_nodes=20, num_edges=62,\n",
       "          ndata_schemes={'conceptnet_ids': Scheme(shape=(), dtype=torch.int64)}\n",
       "          edata_schemes={})}"
      ]
     },
     "execution_count": 15,
     "metadata": {},
     "output_type": "execute_result"
    }
   ],
   "source": [
    "dgs"
   ]
  },
  {
   "cell_type": "code",
   "execution_count": null,
   "metadata": {},
   "outputs": [],
   "source": [
    "def camel_case_split(str): \n",
    "    return re.findall(r'[A-Z](?:[a-z]+|[A-Z]*(?=[A-Z]|$))', str)\n",
    "\n",
    "def get_conceptnet_graph(conceptnet_graph_fname):\n",
    "    cpnet = nx.read_gpickle(conceptnet_graph_fname)\n",
    "    cpnet_simple = nx.Graph()\n",
    "\n",
    "    for u, v, data in cpnet.edges(data=True):\n",
    "        w = data['weight'] if 'weight' in data else 1.0\n",
    "\n",
    "        if cpnet_simple.has_edge(u, v):\n",
    "            cpnet_simple[u][v]['weight'] += w\n",
    "        else:\n",
    "            cpnet_simple.add_edge(u, v, weight=w)\n",
    "\n",
    "    del cpnet\n",
    "    return cpnet_simple\n",
    "\n",
    "def generate_graphs(objects_fname, conceptnet_graph_fname, conceptnet_id_fname):\n",
    "    \"\"\"\n",
    "    Generate graphs for each object, where each object is at the center of the graph. \n",
    "    The graph consists of all the neighbors; also refered to as ego-subgraph.\n",
    "    \"\"\"\n",
    "    concept2id = read_file(conceptnet_id_fname,f_type='json')\n",
    "    conceptnet_graph = get_conceptnet_graph(conceptnet_graph_fname)\n",
    "    \n",
    "    objects = read_file(objects_fname)\n",
    "    objs_in_concept = [oo for oo in objects if oo.lower() in concept2id.keys()]\n",
    "    objs_not_in_concept = [oo for oo in objects if not oo.lower() in concept2id.keys()]\n",
    "    objs_not_in_concept_extended = [' '.join(np.unique([o] + camel_case_split(o))) for o in objs_not_in_concept]   \n",
    "    all_objs = objs_in_concept + objs_not_in_concept_extended\n",
    "    obj_map = {for oo in all_objects}\n",
    "    graphs = {}\n",
    "\n",
    "    for obj in all_objs:\n",
    "        sub_graphs = []\n",
    "        for oo in obj.split(' '):\n",
    "            try:\n",
    "                ego_graph = nx.ego_graph(conceptnet_graph, concept2id[oo.lower()])\n",
    "                sub_graphs.append(ego_graph)\n",
    "            except:\n",
    "                pass\n",
    "            \n",
    "        if len(sub_graphs):\n",
    "            combined_graph = nx.compose_all(sub_graphs)\n",
    "            combined_graph = nx.convert_node_labels_to_integers(combined_graph, label_attribute='cid')\n",
    "            dg = dgl.DGLGraph()\n",
    "            dg.from_networkx(combined_graph)\n",
    "            combined_graph_json = nx.node_link_data(combined_graph)\n",
    "            cids = [combined_graph_json.nodes[n_id]['cid'] + 1 for n_id in range(len(dg))] #adding 1, as 0 stands for placeholder / dummy concept\n",
    "            dg.ndata.update({'conceptnet_ids': torch.LongTensor(cids)})\n",
    "            graphs[max(obj.split(' '))] = dg\n",
    "\n",
    "    return graphs\n",
    "\n",
    "\n",
    "\n"
   ]
  },
  {
   "cell_type": "code",
   "execution_count": null,
   "metadata": {},
   "outputs": [],
   "source": []
  },
  {
   "cell_type": "code",
   "execution_count": 16,
   "metadata": {
    "ExecuteTime": {
     "end_time": "2020-05-14T19:41:05.430656Z",
     "start_time": "2020-05-14T19:41:05.126118Z"
    }
   },
   "outputs": [
    {
     "name": "stdout",
     "output_type": "stream",
     "text": [
      "On branch master\r\n",
      "Changes not staged for commit:\r\n",
      "  (use \"git add <file>...\" to update what will be committed)\r\n",
      "  (use \"git checkout -- <file>...\" to discard changes in working directory)\r\n",
      "\r\n",
      "\t\u001b[31mmodified:   embeddings/OpenKE/openke/config/Trainer.py\u001b[m\r\n",
      "\t\u001b[31mmodified:   embeddings/OpenKE/train_transe_conceptnet.py\u001b[m\r\n",
      "\r\n",
      "Untracked files:\r\n",
      "  (use \"git add <file>...\" to include in what will be committed)\r\n",
      "\r\n",
      "\t\u001b[31mconceptnet/concept2id.json\u001b[m\r\n",
      "\t\u001b[31mconceptnet/id2concept.json\u001b[m\r\n",
      "\t\u001b[31mconceptnet/id2relation.json\u001b[m\r\n",
      "\t\u001b[31mconceptnet/relation2id.json\u001b[m\r\n",
      "\t\u001b[31msemantic_ego_subgraph_generation.ipynb\u001b[m\r\n",
      "\r\n",
      "no changes added to commit (use \"git add\" and/or \"git commit -a\")\r\n"
     ]
    }
   ],
   "source": [
    "!git status"
   ]
  },
  {
   "cell_type": "code",
   "execution_count": 17,
   "metadata": {
    "ExecuteTime": {
     "end_time": "2020-05-14T19:41:15.336267Z",
     "start_time": "2020-05-14T19:41:15.139188Z"
    }
   },
   "outputs": [
    {
     "name": "stdout",
     "output_type": "stream",
     "text": [
      "apl\thttps://gitlab.jhuapl.edu/odoemoo1/knowledge-aware-graph-net.git (fetch)\r\n",
      "apl\thttps://gitlab.jhuapl.edu/odoemoo1/knowledge-aware-graph-net.git (push)\r\n",
      "fork\thttps://github.com/kachiO/KagNet.git (fetch)\r\n",
      "fork\thttps://github.com/kachiO/KagNet.git (push)\r\n"
     ]
    }
   ],
   "source": [
    "!add "
   ]
  },
  {
   "cell_type": "code",
   "execution_count": null,
   "metadata": {},
   "outputs": [],
   "source": []
  }
 ],
 "metadata": {
  "kernelspec": {
   "display_name": "Python [conda env:kagnet_test]",
   "language": "python",
   "name": "conda-env-kagnet_test-py"
  },
  "language_info": {
   "codemirror_mode": {
    "name": "ipython",
    "version": 3
   },
   "file_extension": ".py",
   "mimetype": "text/x-python",
   "name": "python",
   "nbconvert_exporter": "python",
   "pygments_lexer": "ipython3",
   "version": "3.6.3"
  },
  "varInspector": {
   "cols": {
    "lenName": 16,
    "lenType": 16,
    "lenVar": 40
   },
   "kernels_config": {
    "python": {
     "delete_cmd_postfix": "",
     "delete_cmd_prefix": "del ",
     "library": "var_list.py",
     "varRefreshCmd": "print(var_dic_list())"
    },
    "r": {
     "delete_cmd_postfix": ") ",
     "delete_cmd_prefix": "rm(",
     "library": "var_list.r",
     "varRefreshCmd": "cat(var_dic_list()) "
    }
   },
   "types_to_exclude": [
    "module",
    "function",
    "builtin_function_or_method",
    "instance",
    "_Feature"
   ],
   "window_display": false
  }
 },
 "nbformat": 4,
 "nbformat_minor": 2
}
